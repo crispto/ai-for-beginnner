{
 "cells": [
  {
   "cell_type": "code",
   "execution_count": 1,
   "metadata": {},
   "outputs": [],
   "source": [
    "from mxnet import nd\n"
   ]
  },
  {
   "cell_type": "code",
   "execution_count": 2,
   "metadata": {},
   "outputs": [
    {
     "name": "stdout",
     "output_type": "stream",
     "text": [
      "\n",
      "[[5.4881353  5.928446   7.1518936  8.442657  ]\n",
      " [6.0276337  8.579456   5.448832   8.472517  ]\n",
      " [4.236548   6.235637   6.458941   3.8438172 ]\n",
      " [4.375872   2.975346   8.91773    0.5671298 ]\n",
      " [9.636627   2.726563   3.834415   4.7766514 ]\n",
      " [7.9172506  8.121687   5.288949   4.799772  ]\n",
      " [5.6804457  3.927848   9.255966   8.360787  ]\n",
      " [0.7103605  3.3739617  0.87129295 6.481719  ]\n",
      " [0.20218399 3.6824155  8.326199   9.571551  ]\n",
      " [7.7815676  1.4035077  8.700122   8.700872  ]]\n",
      "<NDArray 10x4 @cpu(0)>\n"
     ]
    }
   ],
   "source": [
    "pred= nd.random.uniform(0, 10 ,shape=(10, 4))\n",
    "print(pred)"
   ]
  },
  {
   "cell_type": "code",
   "execution_count": 3,
   "metadata": {},
   "outputs": [
    {
     "name": "stdout",
     "output_type": "stream",
     "text": [
      "\n",
      "[3 1 1 3 3 1 1 0 2 3]\n",
      "<NDArray 10 @cpu(0)>\n"
     ]
    }
   ],
   "source": [
    "y_idx = nd.random.randint(0, 4, shape=(10,))\n",
    "print(y_idx)"
   ]
  },
  {
   "cell_type": "code",
   "execution_count": 5,
   "metadata": {},
   "outputs": [
    {
     "data": {
      "text/plain": [
       "\n",
       "[ 6534.7686 10749.967   1264.8826  7564.     15495.853   6430.529\n",
       " 15086.766    686.7113 18522.312  14411.893 ]\n",
       "<NDArray 10 @cpu(0)>"
      ]
     },
     "execution_count": 5,
     "metadata": {},
     "output_type": "execute_result"
    }
   ],
   "source": [
    "y1=nd.exp(pred)\n",
    "y1.sum(axis=1)\n"
   ]
  },
  {
   "cell_type": "code",
   "execution_count": 15,
   "metadata": {},
   "outputs": [
    {
     "data": {
      "text/plain": [
       "\n",
       "[[3.7002977e-02 5.7472631e-02 1.9534294e-01 7.1018147e-01]\n",
       " [3.8579885e-02 4.9499798e-01 2.1626715e-02 4.4479540e-01]\n",
       " [5.4683860e-02 4.0369430e-01 5.0469875e-01 3.6923122e-02]\n",
       " [1.0511522e-02 2.5907464e-03 9.8666465e-01 2.3310406e-04]\n",
       " [9.8836768e-01 9.8608830e-04 2.9857249e-03 7.6605133e-03]\n",
       " [4.2674807e-01 5.2354872e-01 3.0811632e-02 1.8891554e-02]\n",
       " [1.9426299e-02 3.3670273e-03 6.9377542e-01 2.8343123e-01]\n",
       " [2.9629988e-03 4.2512707e-02 3.4803548e-03 9.5104396e-01]\n",
       " [6.6086410e-05 2.1456433e-03 2.2301130e-01 7.7477700e-01]\n",
       " [1.6625352e-01 2.8236746e-04 4.1657570e-01 4.1688845e-01]]\n",
       "<NDArray 10x4 @cpu(0)>"
      ]
     },
     "execution_count": 15,
     "metadata": {},
     "output_type": "execute_result"
    }
   ],
   "source": [
    "h = (nd.sum(nd.exp(pred), axis=1))\n",
    "h = nd.reshape(h, shape=(10,1))\n",
    "h.shape\n",
    "\n",
    "h2 = y1/h\n",
    "h2.sum(axis=1)\n",
    "\n",
    "h2"
   ]
  },
  {
   "cell_type": "code",
   "execution_count": 16,
   "metadata": {},
   "outputs": [
    {
     "data": {
      "text/plain": [
       "\n",
       "[3. 1. 2. 2. 0. 1. 2. 3. 3. 3.]\n",
       "<NDArray 10 @cpu(0)>"
      ]
     },
     "execution_count": 16,
     "metadata": {},
     "output_type": "execute_result"
    }
   ],
   "source": [
    "pred_idx = nd.argmax(h2, axis=1)\n",
    "pred_idx"
   ]
  },
  {
   "cell_type": "code",
   "execution_count": 23,
   "metadata": {},
   "outputs": [
    {
     "name": "stdout",
     "output_type": "stream",
     "text": [
      "\n",
      "[0.34223473 0.7032016  0.90709734 8.364026   4.8716764  0.6471252\n",
      " 5.693725   5.821553   1.5005329  0.8749366 ]\n",
      "<NDArray 10 @cpu(0)>\n"
     ]
    }
   ],
   "source": [
    "# cross entropy\n",
    "H = h2[nd.arange(10), y_idx]\n",
    "cross_entropy = - nd.log(H)\n",
    "print(cross_entropy)"
   ]
  },
  {
   "cell_type": "code",
   "execution_count": 29,
   "metadata": {},
   "outputs": [
    {
     "name": "stdout",
     "output_type": "stream",
     "text": [
      "\n",
      "[1 1 0 0 0 1 0 0 0 1]\n",
      "<NDArray 10 @cpu(0)> (10,)\n"
     ]
    },
    {
     "data": {
      "text/plain": [
       "0.4"
      ]
     },
     "execution_count": 29,
     "metadata": {},
     "output_type": "execute_result"
    }
   ],
   "source": [
    "#accuracy\n",
    "cmp = pred_idx.astype(y_idx.dtype) == y_idx\n",
    "print(cmp, cmp.shape)\n",
    "float(cmp.sum().asscalar())/float(len(cmp))"
   ]
  }
 ],
 "metadata": {
  "kernelspec": {
   "display_name": "gluon",
   "language": "python",
   "name": "python3"
  },
  "language_info": {
   "codemirror_mode": {
    "name": "ipython",
    "version": 3
   },
   "file_extension": ".py",
   "mimetype": "text/x-python",
   "name": "python",
   "nbconvert_exporter": "python",
   "pygments_lexer": "ipython3",
   "version": "3.6.15"
  },
  "orig_nbformat": 4
 },
 "nbformat": 4,
 "nbformat_minor": 2
}
