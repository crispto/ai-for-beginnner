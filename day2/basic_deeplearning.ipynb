{
 "cells": [
  {
   "cell_type": "code",
   "execution_count": 5,
   "metadata": {},
   "outputs": [],
   "source": [
    "from mxnet import nd"
   ]
  },
  {
   "cell_type": "code",
   "execution_count": 16,
   "metadata": {},
   "outputs": [
    {
     "name": "stdout",
     "output_type": "stream",
     "text": [
      "\n",
      "[1.1839255]\n",
      "<NDArray 1 @cpu(0)>\n",
      "\n",
      "[1024.]\n",
      "<NDArray 1 @cpu(0)>\n",
      "1024.0\n"
     ]
    }
   ],
   "source": [
    "def f(a):\n",
    "    b = a * 2\n",
    "    while b.norm().asscalar() <1000:\n",
    "        b = b *2\n",
    "    if b.sum().asscalar() >0:\n",
    "        c = b\n",
    "    else:\n",
    "        c = 100*b\n",
    "    return c\n",
    "\n",
    "a = nd.random.normal(shape=1)\n",
    "print(a)\n",
    "a.attach_grad()\n",
    "with autograd.record():\n",
    "    c = f(a)\n",
    "\n",
    "c.backward()\n",
    "print(a.grad)\n"
   ]
  },
  {
   "cell_type": "code",
   "execution_count": 2,
   "metadata": {},
   "outputs": [],
   "source": [
    "\n",
    "aram_w = nd.random.normal(0, 1, shape=(1,2))\n",
    "param_b = nd.random_normal(0,1, shape=(1,))\n"
   ]
  },
  {
   "cell_type": "code",
   "execution_count": 3,
   "metadata": {},
   "outputs": [
    {
     "name": "stdout",
     "output_type": "stream",
     "text": [
      "\n",
      "[[2.2122064 0.7740038]]\n",
      "<NDArray 1x2 @cpu(0)> \n",
      "[1.0434403]\n",
      "<NDArray 1 @cpu(0)>\n"
     ]
    }
   ],
   "source": [
    "print(aram_w, param_b)"
   ]
  },
  {
   "cell_type": "code",
   "execution_count": 26,
   "metadata": {},
   "outputs": [
    {
     "name": "stdout",
     "output_type": "stream",
     "text": [
      "\n",
      "[[2.9773827]\n",
      " [3.574614 ]\n",
      " [4.4661264]]\n",
      "<NDArray 3x1 @cpu(0)>\n",
      "\n",
      "[[2.9773827 3.574614  4.4661264]]\n",
      "<NDArray 1x3 @cpu(0)>\n"
     ]
    },
    {
     "data": {
      "text/plain": [
       "\n",
       "[[5.9547653]\n",
       " [7.149228 ]\n",
       " [8.932253 ]]\n",
       "<NDArray 3x1 @cpu(0)>"
      ]
     },
     "execution_count": 26,
     "metadata": {},
     "output_type": "execute_result"
    }
   ],
   "source": [
    "v=nd.random_normal(3, 1, shape=(3,1))\n",
    "print(v)\n",
    "t = v.T\n",
    "print(t)\n",
    "v+t.reshape(v.shape)"
   ]
  },
  {
   "cell_type": "code",
   "execution_count": 30,
   "metadata": {},
   "outputs": [
    {
     "name": "stdout",
     "output_type": "stream",
     "text": [
      "\n",
      "[[-1.0730928 -1.0424827]]\n",
      "<NDArray 1x2 @cpu(0)> \n",
      "[-1.3278849]\n",
      "<NDArray 1 @cpu(0)>\n",
      "\n",
      "[[-2.1461856 -2.0849655]]\n",
      "<NDArray 1x2 @cpu(0)> \n",
      "[-2.6557698]\n",
      "<NDArray 1 @cpu(0)>\n"
     ]
    }
   ],
   "source": [
    "param_w = nd.random.normal(0, 1, shape=(1,2))\n",
    "param_b = nd.random_normal(0,1, shape=(1,))\n",
    "params = [param_w, param_b]\n",
    "print(param_w, param_b)\n",
    "for param in params:\n",
    "  param *=2\n",
    "print(param_w, param_b)"
   ]
  },
  {
   "cell_type": "code",
   "execution_count": 32,
   "metadata": {},
   "outputs": [
    {
     "name": "stdout",
     "output_type": "stream",
     "text": [
      "\n",
      "[7. 5. 9. 2. 1. 3. 6. 0. 8. 4.]\n",
      "<NDArray 10 @cpu(0)>\n"
     ]
    }
   ],
   "source": [
    "v = nd.arange(0,10)\n",
    "o = nd.shuffle(v)\n",
    "print(o)"
   ]
  },
  {
   "cell_type": "code",
   "execution_count": 2,
   "metadata": {},
   "outputs": [
    {
     "name": "stdout",
     "output_type": "stream",
     "text": [
      "(2, 4)\n",
      "(102, 14)\n"
     ]
    }
   ],
   "source": [
    "# 匿名函数\n",
    "def act(x, y, transform=None):\n",
    "    if not transform:\n",
    "        return x, y\n",
    "    else:\n",
    "        return transform(x, y)\n",
    "    \n",
    "x, y = 2,4\n",
    "\n",
    "print(act(2,4))\n",
    "print(act(x,y, lambda x,y: (x + 100, y+10)))"
   ]
  },
  {
   "cell_type": "code",
   "execution_count": 9,
   "metadata": {},
   "outputs": [
    {
     "name": "stdout",
     "output_type": "stream",
     "text": [
      "(3, 2, 1)\n",
      "(3, 2)\n"
     ]
    }
   ],
   "source": [
    "y = nd.random.normal(shape=(3,2,1))\n",
    "print(y.shape)\n",
    "\n",
    "y2 = y.squeeze(axis=-1)\n",
    "print(y2.shape)"
   ]
  }
 ],
 "metadata": {
  "kernelspec": {
   "display_name": "base",
   "language": "python",
   "name": "python3"
  },
  "language_info": {
   "codemirror_mode": {
    "name": "ipython",
    "version": 3
   },
   "file_extension": ".py",
   "mimetype": "text/x-python",
   "name": "python",
   "nbconvert_exporter": "python",
   "pygments_lexer": "ipython3",
   "version": "3.6.15"
  },
  "orig_nbformat": 4
 },
 "nbformat": 4,
 "nbformat_minor": 2
}
