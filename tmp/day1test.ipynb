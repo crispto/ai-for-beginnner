{
 "cells": [
  {
   "cell_type": "code",
   "execution_count": null,
   "metadata": {},
   "outputs": [],
   "source": [
    "\n",
    "def out_name(in_name):\n",
    "    last_dot = in_name.rfind('.')\n",
    "    v = in_name[:last_dot] + '_detect' + in_name[last_dot:]\n",
    "    return v\n",
    "\n",
    "in_name = './IMG_1947.jpg'\n",
    "\n",
    "v = out_name(in_name)\n",
    "print(v)"
   ]
  },
  {
   "cell_type": "code",
   "execution_count": null,
   "metadata": {},
   "outputs": [],
   "source": [
    "import pickle\n",
    "from os import path\n",
    "base_path=\"/home/richard/data2/pytorch-dataset/cifar-10-batches-py\"\n",
    "data = path.join(base_path, \"data_batch_1\")\n",
    "with open(data, 'rb') as fo:\n",
    "    ob = pickle.load(fo, encoding='bytes')\n",
    "    print(ob.keys())\n",
    "    print(ob[b'labels'])\n",
    "    print(ob[b'batch_label'])\n",
    "    print(ob[b'data'][0])"
   ]
  },
  {
   "cell_type": "code",
   "execution_count": null,
   "metadata": {},
   "outputs": [],
   "source": [
    "import matplotlib.pyplot as plt"
   ]
  }
 ],
 "metadata": {
  "kernelspec": {
   "display_name": "base",
   "language": "python",
   "name": "python3"
  },
  "language_info": {
   "codemirror_mode": {
    "name": "ipython",
    "version": 3
   },
   "file_extension": ".py",
   "mimetype": "text/x-python",
   "name": "python",
   "nbconvert_exporter": "python",
   "pygments_lexer": "ipython3",
   "version": "3.9.16"
  },
  "orig_nbformat": 4
 },
 "nbformat": 4,
 "nbformat_minor": 2
}
