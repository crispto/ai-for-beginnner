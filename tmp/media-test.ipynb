{
 "cells": [
  {
   "cell_type": "code",
   "execution_count": null,
   "metadata": {},
   "outputs": [],
   "source": [
    "import cv2\n",
    "import numpy as np\n",
    "from mediapipe import ImageFormat, ImageFrame\n",
    "import random\n",
    "import matplotlib.pyplot as plt\n",
    "from math import sqrt\n",
    "pi = 3.14159"
   ]
  },
  {
   "cell_type": "code",
   "execution_count": null,
   "metadata": {},
   "outputs": [],
   "source": [
    "def show_img(img, kind='cv2'):\n",
    "    if kind == \"cv2\":\n",
    "        win = cv2.namedWindow(\"test win\", cv2.WINDOW_NORMAL)\n",
    "        cv2.imshow(\"test win\", img)\n",
    "        cv2.waitKey(0)\n",
    "        cv2.destroyAllWindows()\n",
    "    else:\n",
    "        plt.imshow(img)\n",
    "        plt.show()"
   ]
  },
  {
   "cell_type": "code",
   "execution_count": null,
   "metadata": {},
   "outputs": [],
   "source": [
    "def test_create_image_frame_from_gray_cv_mat():\n",
    "    cv2.namedWindow('mat', cv2.WINDOW_NORMAL)\n",
    "    w, h = random.randrange(3, 100), random.randrange(3, 100)\n",
    "    mat = cv2.cvtColor(\n",
    "        np.random.randint(2**8 - 1, size=(h, w, 3), dtype=np.uint8),\n",
    "        cv2.COLOR_RGB2GRAY)\n",
    "    mat[2, 2] = 42\n",
    "    cv2.imshow('mat', mat)\n",
    "    cv2.waitKey(0)\n",
    "    cv2.destroyAllWindows()\n",
    "    # gray8_image_frame = ImageFrame(image_format=ImageFormat.GRAY8, data=mat)\n",
    "    # self.assertTrue(np.array_equal(mat, gray8_image_frame.numpy_view()))\n",
    "    # with self.assertRaisesRegex(IndexError, 'index dimension mismatch'):\n",
    "    #   print(gray8_image_frame[w, h, 1])\n",
    "    # with self.assertRaisesRegex(IndexError, 'out of bounds'):\n",
    "    #   print(gray8_image_frame[w, h])\n",
    "    # self.assertEqual(42, gray8_image_frame[2, 2])\n",
    "test_create_image_frame_from_gray_cv_mat()"
   ]
  },
  {
   "cell_type": "code",
   "execution_count": null,
   "metadata": {},
   "outputs": [],
   "source": [
    "k = np.random.randint(0, 254, size=(100, 200, 3), dtype=np.uint8)\n",
    "mat = cv2.cvtColor(k, cv2.COLOR_BGR2GRAY)\n",
    "show_img()"
   ]
  },
  {
   "cell_type": "code",
   "execution_count": null,
   "metadata": {},
   "outputs": [],
   "source": [
    "k = np.random.randint(0, 254, size=(100, 200, 3), dtype=np.uint8)\n",
    "print(k.dtype)\n",
    "show_img(k)\n",
    "k2 = np.random.randint(0, 254, size=(100, 200))\n",
    "print(k2.dtype)"
   ]
  },
  {
   "cell_type": "code",
   "execution_count": null,
   "metadata": {},
   "outputs": [],
   "source": [
    "\n",
    "h,w = 60,80\n",
    "# 生成一个白布背景\n",
    "white_blackground = np.full((h,w,3), 100, dtype=np.uint8)\n",
    "fig, axis = plt.subplots(2,3)\n",
    "axis[0][0].imshow(white_blackground)\n",
    "# 生成像素颜色随机的rgb图片\n",
    "random_color = np.random.randint(255, size=(h,w,3), dtype=np.uint8)\n",
    "axis[0][1].imshow(random_color)\n",
    "# 生成一张rgba图片\n",
    "rgb_pic = np.zeros(shape=(h,w,4), dtype=np.uint8)\n",
    "rgb_pic[:] = (255, 0, 0, int(0.7 * 255))\n",
    "axis[0][2].imshow(rgb_pic)\n",
    "# 生成像素颜色随机的灰度图片\n",
    "random_gray = np.random.randint(255, size=(h,w, 1), dtype=np.uint8)\n",
    "axis[1][0].imshow(random_gray, cmap=\"gray\")\n",
    "# 生成一个左白右黑的渐变图片\n",
    "half_black = np.zeros((h,w),dtype=np.uint8)\n",
    "half_black[:, :w//2] = 255\n",
    "axis[1][1].imshow(half_black, cmap='gray')\n",
    "# 生成一个强度满足高斯分布的灰度图片\n",
    "raw = np.zeros((h,w), dtype=np.float32)\n",
    "center = (h/2, w/2)\n",
    "for i in range(h):\n",
    "    for j in range(w):\n",
    "        raw[i][j] =  sqrt((i-center[0]) ** 2 + (j - center[1]) ** 2)\n",
    "def normal(X, scale=1.0):\n",
    "    Y = -1 * (X ** 2 )/ (2 * scale ** 2)\n",
    "    Y = np.exp(Y) / (sqrt(2* pi * scale))\n",
    "    return Y\n",
    "Y = normal(raw, scale=10.0) \n",
    "axis[1][2].imshow(Y)\n",
    "plt.show()"
   ]
  },
  {
   "cell_type": "code",
   "execution_count": null,
   "metadata": {},
   "outputs": [],
   "source": [
    "# construct a rgba red image with numpy\n",
    "import numpy as np\n",
    "import matplotlib.pyplot as plt\n",
    "# set alpha to 0.8\n",
    "fig, axis = plt.subplots(1, 5)\n",
    "for i in range(0,  5):\n",
    "    im = np.zeros((100,100,4), dtype=np.uint8)\n",
    "    im[:,:,0] = 255\n",
    "    im[:,:,3] = (i+1)*255/5\n",
    "    axis[i].imshow(im)\n",
    "    axis[i].axis('off')\n",
    "plt.show()"
   ]
  }
 ],
 "metadata": {
  "kernelspec": {
   "display_name": "base",
   "language": "python",
   "name": "python3"
  },
  "language_info": {
   "codemirror_mode": {
    "name": "ipython",
    "version": 3
   },
   "file_extension": ".py",
   "mimetype": "text/x-python",
   "name": "python",
   "nbconvert_exporter": "python",
   "pygments_lexer": "ipython3",
   "version": "3.9.16"
  },
  "orig_nbformat": 4
 },
 "nbformat": 4,
 "nbformat_minor": 2
}
