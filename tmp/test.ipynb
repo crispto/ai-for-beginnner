{
 "cells": [
  {
   "cell_type": "code",
   "execution_count": 8,
   "metadata": {},
   "outputs": [],
   "source": [
    "from mxnet import nd"
   ]
  },
  {
   "cell_type": "code",
   "execution_count": null,
   "metadata": {},
   "outputs": [],
   "source": [
    "pred= nd.random.uniform(0, 10 ,shape=(10, 4))\n",
    "print(pred)"
   ]
  },
  {
   "cell_type": "code",
   "execution_count": null,
   "metadata": {},
   "outputs": [],
   "source": [
    "y_idx = nd.random.randint(0, 4, shape=(10,))\n",
    "print(y_idx)"
   ]
  },
  {
   "cell_type": "code",
   "execution_count": null,
   "metadata": {},
   "outputs": [],
   "source": [
    "y1=nd.exp(pred)\n",
    "y1.sum(axis=1)\n"
   ]
  },
  {
   "cell_type": "code",
   "execution_count": null,
   "metadata": {},
   "outputs": [],
   "source": [
    "h = (nd.sum(nd.exp(pred), axis=1))\n",
    "h = nd.reshape(h, shape=(10,1))\n",
    "h.shape\n",
    "\n",
    "h2 = y1/h\n",
    "h2.sum(axis=1)\n",
    "\n",
    "h2"
   ]
  },
  {
   "cell_type": "code",
   "execution_count": null,
   "metadata": {},
   "outputs": [],
   "source": [
    "pred_idx = nd.argmax(h2, axis=1)\n",
    "pred_idx"
   ]
  },
  {
   "cell_type": "code",
   "execution_count": null,
   "metadata": {},
   "outputs": [],
   "source": [
    "# cross entropy\n",
    "H = h2[nd.arange(10), y_idx]\n",
    "cross_entropy = - nd.log(H)\n",
    "print(cross_entropy)"
   ]
  },
  {
   "cell_type": "code",
   "execution_count": null,
   "metadata": {},
   "outputs": [],
   "source": [
    "#accuracy\n",
    "cmp = pred_idx.astype(y_idx.dtype) == y_idx\n",
    "print(cmp, cmp.shape)\n",
    "float(cmp.sum().asscalar())/float(len(cmp))"
   ]
  },
  {
   "cell_type": "code",
   "execution_count": 6,
   "metadata": {},
   "outputs": [
    {
     "name": "stdout",
     "output_type": "stream",
     "text": [
      "X shape: (3, 1, 28, 28)\n",
      "y shape: (3,)\n",
      "y is \n",
      "[2 9 6]\n",
      "<NDArray 3 @cpu_shared(0)>\n"
     ]
    }
   ],
   "source": [
    "from mxnet import gluon\n",
    "gdata = gluon.data\n",
    "batch_size = 3\n",
    "mnist_train = gdata.vision.FashionMNIST(train=True)\n",
    "mnist_test = gdata.vision.FashionMNIST(train=False)\n",
    "totensor = gdata.vision.transforms.ToTensor()\n",
    "train_iter = gdata.DataLoader(dataset=mnist_train.transform_first(totensor), batch_size=batch_size, shuffle=False, num_workers=1)\n",
    "test_iter = gdata.DataLoader(dataset=mnist_test.transform_first(totensor), batch_size=batch_size, shuffle=True, num_workers=1)\n",
    "# 可以看出 fashionmnist 数据集的 Y 是看不出一共有多少各类的\n",
    "for X, y in train_iter:\n",
    "    print(f\"X shape: {X.shape}\")\n",
    "    print(f\"y shape: {y.shape}\")\n",
    "    print(f'y is {y}')\n",
    "    break\n"
   ]
  },
  {
   "cell_type": "code",
   "execution_count": 12,
   "metadata": {},
   "outputs": [
    {
     "name": "stdout",
     "output_type": "stream",
     "text": [
      "\n",
      "[2. 3.]\n",
      "<NDArray 2 @cpu(0)>\n",
      "\n",
      "[2 3]\n",
      "<NDArray 2 @cpu(0)>\n"
     ]
    }
   ],
   "source": [
    "v= nd.array([2.0,3.0], dtype='float32')\n",
    "print(v)\n",
    "x = v.astype('int32')\n",
    "print(x)"
   ]
  }
 ],
 "metadata": {
  "kernelspec": {
   "display_name": "gluon",
   "language": "python",
   "name": "python3"
  },
  "language_info": {
   "codemirror_mode": {
    "name": "ipython",
    "version": 3
   },
   "file_extension": ".py",
   "mimetype": "text/x-python",
   "name": "python",
   "nbconvert_exporter": "python",
   "pygments_lexer": "ipython3",
   "version": "3.6.15"
  },
  "orig_nbformat": 4
 },
 "nbformat": 4,
 "nbformat_minor": 2
}
