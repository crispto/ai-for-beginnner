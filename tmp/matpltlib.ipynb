{
 "cells": [
  {
   "cell_type": "code",
   "execution_count": null,
   "metadata": {},
   "outputs": [],
   "source": [
    "from matplotlib import pyplot as plt\n",
    "import numpy as np\n",
    "\n",
    "x = np.linspace(0, 10, 100)\n",
    "y = np.sin(x)"
   ]
  },
  {
   "cell_type": "code",
   "execution_count": null,
   "metadata": {},
   "outputs": [],
   "source": [
    "fig, axis = plt.subplots()\n",
    "axis.plot(x, y)\n",
    "axis.set_title(\"aplitude\")\n",
    "axis.set_xlabel(\"time/s\")\n",
    "axis.set_ylabel(\"amplitude\")\n",
    "plt.show()"
   ]
  },
  {
   "cell_type": "code",
   "execution_count": null,
   "metadata": {},
   "outputs": [],
   "source": [
    "fig, axis = plt.subplots()\n",
    "axis.plot(x, y, label='this will be legend?')\n",
    "axis.plot(x, y **2, label='this will be legend2?')\n",
    "axis.legend()\n",
    "axis.set_title(\"Sine Wave\")\n",
    "axis.set_xlabel(\"time/s\")\n",
    "axis.set_ylabel(\"amplitude\")\n",
    "plt.show()"
   ]
  },
  {
   "cell_type": "code",
   "execution_count": null,
   "metadata": {},
   "outputs": [],
   "source": [
    "fig, axs = plt.subplots(2,3)\n",
    "axs[0,0].plot(x, y, label='aa')\n",
    "axs[0,0].plot(x, y*2, label='bb')\n",
    "axs[0,0].set_title('linear')\n",
    "axs[0,0].legend()\n",
    "\n",
    "axs[0,1].plot(x, y**2)\n",
    "axs[0,2].plot(x, y**3)\n",
    "axs[1,0].plot(x, y**4)\n",
    "axs[1,1].plot(x, y**5)\n",
    "axs[1,2].plot(x, y**6)\n",
    "plt.show()"
   ]
  }
 ],
 "metadata": {
  "kernelspec": {
   "display_name": "base",
   "language": "python",
   "name": "python3"
  },
  "language_info": {
   "codemirror_mode": {
    "name": "ipython",
    "version": 3
   },
   "file_extension": ".py",
   "mimetype": "text/x-python",
   "name": "python",
   "nbconvert_exporter": "python",
   "pygments_lexer": "ipython3",
   "version": "3.9.16"
  },
  "orig_nbformat": 4
 },
 "nbformat": 4,
 "nbformat_minor": 2
}
