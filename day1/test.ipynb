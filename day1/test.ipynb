{
 "cells": [
  {
   "cell_type": "code",
   "execution_count": 1,
   "metadata": {},
   "outputs": [
    {
     "name": "stdout",
     "output_type": "stream",
     "text": [
      "./IMG_1947_detect.jpg\n"
     ]
    }
   ],
   "source": [
    "\n",
    "def out_name(in_name):\n",
    "    last_dot = in_name.rfind('.')\n",
    "    v = in_name[:last_dot] + '_detect' + in_name[last_dot:]\n",
    "    return v\n",
    "\n",
    "in_name = './IMG_1947.jpg'\n",
    "\n",
    "v = out_name(in_name)\n",
    "print(v)"
   ]
  }
 ],
 "metadata": {
  "kernelspec": {
   "display_name": "base",
   "language": "python",
   "name": "python3"
  },
  "language_info": {
   "codemirror_mode": {
    "name": "ipython",
    "version": 3
   },
   "file_extension": ".py",
   "mimetype": "text/x-python",
   "name": "python",
   "nbconvert_exporter": "python",
   "pygments_lexer": "ipython3",
   "version": "3.9.16"
  },
  "orig_nbformat": 4
 },
 "nbformat": 4,
 "nbformat_minor": 2
}
